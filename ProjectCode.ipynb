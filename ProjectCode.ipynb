{
 "cells": [
  {
   "cell_type": "markdown",
   "metadata": {},
   "source": [
    "# *Q1.Solving PDE using various finite difference methods*\n",
    "\n",
    "Consider the following PDE\n",
    "\n",
    "\n",
    "\\begin{align}\n",
    "\\frac{\\partial V}{\\partial t}&=\\frac{\\tilde{\\sigma}^2(t,x) x^2}{2}\\frac{\\partial^2 V}{\\partial x^2} + rx\\frac{\\partial V}{\\partial x} -rV,& t>0 \\\\\n",
    "V(0,s)&=g(x),& t=0\n",
    "\\end{align}\n",
    "\n",
    "\n",
    "where we have\n",
    "\\begin{align}\n",
    "\\tilde{\\sigma}(t,x) = \\sigma(T-t,x) = \\left(1+\\frac{T-t}{30}\\right)\\left[0.1 + 0.4\\exp\\left(-\\frac{s}{50}\\right)\\right]\n",
    "\\end{align}"
   ]
  },
  {
   "cell_type": "code",
   "execution_count": 1,
   "metadata": {},
   "outputs": [],
   "source": [
    "import numpy as np\n",
    "import pandas as pd\n",
    "import scipy.stats as si\n",
    "from scipy.sparse import diags\n",
    "import matplotlib.pyplot as plt\n",
    "from scipy.optimize import fsolve, root, minimize\n",
    "\n",
    "from scipy.stats import norm\n",
    "\n",
    "\n",
    "K, r, T = 100, 0.01, 1"
   ]
  },
  {
   "cell_type": "markdown",
   "metadata": {},
   "source": [
    "*Grid specification*"
   ]
  },
  {
   "cell_type": "code",
   "execution_count": 2,
   "metadata": {},
   "outputs": [],
   "source": [
    "#Specify grid parameters and set up grids\n",
    "x_min, x_max = 0, 300\n",
    "N, M = 1000, 300\n",
    "dt = T/N\n",
    "dx = (x_max - x_min)/M\n",
    "x = np.linspace(x_min, x_max, M+1)\n",
    "t = np.linspace(0, T, N+1)"
   ]
  },
  {
   "cell_type": "markdown",
   "metadata": {},
   "source": [
    "# *Explicit scheme*\n",
    "\n",
    "\n",
    "Let\n",
    "\\begin{align}\n",
    "a^n_k := a(t_n, x_k) = \\frac{\\tilde{\\sigma}^2(t_n,x_k)x_k^2}{2},\\qquad b^n_k := rx_k\n",
    "\\end{align}\n",
    "\n",
    "\n",
    "Under explicit scheme, we can discretise the above PDE as\n",
    "\n",
    "\\begin{align*}\n",
    "\\frac{V^{n+1}_k-V^n_{k}}{\\triangle t}&=a^n_k\\frac{V^{n}_{k+1}-2V^n_k+V^n_{k-1}}{\\triangle x^2}\n",
    "+b^n_k \\frac{V^{n}_{k+1}-V^n_{k-1}}{2\\triangle x}-r V^n_k \\\\\n",
    "\\implies \\quad V^{n+1}_k&=\\left(a^n_k\\frac{\\triangle t}{\\triangle x^2}-b^n_k\\frac{\\triangle t}{2\\triangle x}\\right)V^{n}_{k-1}+\\left(1-2a^n_k\\frac{ \\triangle t}{\\triangle x^2}-r\\triangle t \\right)V^n_k\\\\\n",
    "&\\qquad +\\left(a^n_k\\frac{\\triangle t}{\\triangle x^2}+b^n_k\\frac{\\triangle t}{2\\triangle x}\\right)V^{n}_{k+1}\\\\\n",
    "&=A^n_k V^n_{k-1} +(1+B^n_k) V^n_{k}+C^n_k V^n_{k+1}\n",
    "\\end{align*}\n",
    "for $k=1, 2, ..., M-1$, where\n",
    "\\begin{align}\n",
    "A^n_k:=a^n_k\\frac{\\triangle t}{\\triangle x^2}-b^n_k\\frac{\\triangle t}{2\\triangle x},\\qquad B^n_k:=-2a^n_k\\frac{ \\triangle t}{\\triangle x^2}-r\\triangle t ,\\qquad C^n_k:=a^n_k\\frac{\\triangle t}{\\triangle x^2}+b^n_k\\frac{\\triangle t}{2\\triangle x}\n",
    "\\end{align}"
   ]
  },
  {
   "cell_type": "code",
   "execution_count": 3,
   "metadata": {},
   "outputs": [],
   "source": [
    "# Set up the matrices A, B and C, note that A, B and C are time-dependent\n",
    "def tilde_sigma(t,x):\n",
    "    return (1+ (T-t[np.newaxis, :])/30) * (0.1 + 0.4* np.exp(-x[:, np.newaxis]/50))\n",
    "\n",
    "def compute_params(local_volatility_function, t, x):\n",
    "    #set up a matrix for a^n_k, with each column corresponding to each time step\n",
    "    local_vol = local_volatility_function(t,x)\n",
    "    a = 0.5 * local_vol**2 * x[:,np.newaxis]**2 \n",
    "    b = r * x\n",
    "    A = a * dt / dx**2  - 0.5 * b[:, None] * dt/ dx\n",
    "    B = -2 * a * dt / dx**2 - r * dt\n",
    "    C = a * dt / dx**2  + 0.5 * b[:, None] * dt/ dx\n",
    "    return (A,B,C)"
   ]
  },
  {
   "cell_type": "markdown",
   "metadata": {},
   "source": [
    "The matrix L is also time dependent, so we create a 3-D array to hold L at each time step. Note that we choose $n = 0,1,\\ldots, N-1$."
   ]
  },
  {
   "cell_type": "code",
   "execution_count": 4,
   "metadata": {},
   "outputs": [],
   "source": [
    "# Setup the array L^n \n",
    "def compute_L(A,B,C):\n",
    "    a_diag = np.array([np.concatenate([A[1:-1,j],[0]]) for j in range(N+1)])\n",
    "    b_diag = np.array([np.concatenate([[0],B[1:-1,j],[0]]) for j in range(N+1)])\n",
    "    c_diag = np.array([np.concatenate([[0],C[1:-1,j]]) for j in range(N+1)])\n",
    "\n",
    "    L = np.zeros((N+1, M+1, M+1))\n",
    "    for i in range(N+1):  \n",
    "        L[i,:,:] = diags([a_diag[i,:], b_diag[i,:], c_diag[i,:]], [-1, 0, 1]).toarray()\n",
    "    return (L, a_diag, b_diag, c_diag)\n",
    "\n",
    "\n",
    "\n",
    "(A_local, B_local, C_local) = compute_params(tilde_sigma, t, x)\n",
    "(L_local, a_diag_local, b_diag_local, c_diag_local) = compute_L(A_local,B_local,C_local)\n",
    "I = np.identity(M+1)"
   ]
  },
  {
   "cell_type": "markdown",
   "metadata": {},
   "source": [
    "The complete recursive algorithm is: \n",
    "\\begin{align}\n",
    "V^{n+1}=B^{n+1}((\\mathbb{I}+L^n) V^{n})\n",
    "\\end{align}\n",
    "where $n = 0,1,\\ldots,N-1$, and $B^{n+1}(\\cdot)$ is an operator which overwrites the first and last entry of the input vector to $\\ell^{n+1}_0:=\\ell(t_{n+1},x_0)$ and $u^{n+1}_{M}:=u(t_{n+1},x_M)$."
   ]
  },
  {
   "cell_type": "code",
   "execution_count": 5,
   "metadata": {},
   "outputs": [],
   "source": [
    "def price_call_explicit_scheme(price_range, time_range, strike_price, L):\n",
    "    # Initial condition\n",
    "    v_ex = np.maximum(price_range - strike_price, 0) # call option payoff\n",
    "\n",
    "    # Iteration of explicit scheme\n",
    "    for n in range(N):\n",
    "        v_ex = np.matmul(I+L[n,:,:], v_ex)           # V^{n+1} = (I+L)V^n\n",
    "        v_ex[0] = 0                           # Boundary operation at x_min\n",
    "        v_ex[M] = x_max - strike_price*np.exp(-r*time_range[n+1])   # Boundary operation at x_max\n",
    "\n",
    "    return v_ex\n",
    "\n",
    "v_ex = price_call_explicit_scheme(x, t, 100, L_local)"
   ]
  },
  {
   "cell_type": "markdown",
   "metadata": {},
   "source": [
    "# *Fully implicit scheme*\n",
    "\n",
    "Under the fully implicit scheme, we have\n",
    "\\begin{align*}\n",
    " V^{n-1}_k=-A^n_k V^n_{k-1} +(1-B^n_k) V^n_{k}-C^n_k V^n_{k+1}\n",
    "\\end{align*}\n",
    "for $k=1, 2, ..., M-1$, $n = 1,2,\\ldots,N$, where\n",
    "\\begin{align}\n",
    "A^n_k:=a^n_k\\frac{\\triangle t}{\\triangle x^2}-b^n_k\\frac{\\triangle t}{2\\triangle x},\\qquad B^n_k:=-2a^n_k\\frac{ \\triangle t}{\\triangle x^2}-r\\triangle t ,\\qquad C^n_k:=a^n_k\\frac{\\triangle t}{\\triangle x^2}+b^n_k\\frac{\\triangle t}{2\\triangle x}\n",
    "\\end{align}\n",
    "\n",
    "\n",
    "The complete recursive algorithm is: \n",
    "\\begin{align}\n",
    "\n",
    "(\\mathbb{I}-L^{n})V^{n}=B^{n}(V^{n-1}).\n",
    "\n",
    "\\end{align}\n",
    "where $n = 1,\\ldots,N$."
   ]
  },
  {
   "cell_type": "markdown",
   "metadata": {},
   "source": [
    "In the fully implicit scheme, we need to make use of the Thomas algorithm to solve the system of equations"
   ]
  },
  {
   "cell_type": "code",
   "execution_count": 6,
   "metadata": {},
   "outputs": [],
   "source": [
    "# Tridiagional matrix solver. a, b, c are the low, mid and high diagional of the matrix\n",
    "# d is the constant vector on the RHS\n",
    "#(copied shamelessly from https://gist.github.com/cbellei/8ab3ab8551b8dfc8b081c518ccd9ada9)\n",
    "def TDMAsolver(a, b, c, d):\n",
    "\n",
    "    nf = len(d) # number of equations\n",
    "    ac, bc, cc, dc = map(np.array, (a, b, c, d)) # copy arrays\n",
    "    for it in range(1, nf):\n",
    "        mc = ac[it-1]/bc[it-1]\n",
    "        bc[it] = bc[it] - mc*cc[it-1] \n",
    "        dc[it] = dc[it] - mc*dc[it-1]\n",
    "        \t    \n",
    "    xc = bc\n",
    "    xc[-1] = dc[-1]/bc[-1]\n",
    "\n",
    "    for il in range(nf-2, -1, -1):\n",
    "        xc[il] = (dc[il]-cc[il]*xc[il+1])/bc[il]\n",
    "\n",
    "    return xc"
   ]
  },
  {
   "cell_type": "code",
   "execution_count": 7,
   "metadata": {},
   "outputs": [],
   "source": [
    "def price_option_implicit_scheme(price_range, time_range, a_diag, b_diag, c_diag, final_payoff, lower_boundary, upper_boundary):\n",
    "    # Initial condition\n",
    "    v_im = final_payoff(price_range)\n",
    "\n",
    "    # Iteration of implicit scheme\n",
    "    for n in range(1,N+1):\n",
    "        \n",
    "        d = v_im   # The RHS of the system of equations is V^{n-1}\n",
    "        d[0] = lower_boundary(price_range[0], time_range[n])  # Boundary operator at x_min\n",
    "        d[M] = upper_boundary(price_range[M], time_range[n])  # Boundary operator at x_max\n",
    "        v_im = TDMAsolver(-a_diag[n,:], 1-b_diag[n,:], -c_diag[n,:], d)   # Run the Thomas algorithm to solve for V^n\n",
    "    return v_im"
   ]
  },
  {
   "cell_type": "code",
   "execution_count": 8,
   "metadata": {},
   "outputs": [
    {
     "data": {
      "text/plain": [
       "array([0.00000000e+00, 2.31275683e-27, 7.16487159e-25, 5.74429093e-23,\n",
       "       2.11320301e-21, 4.54220468e-20, 6.53501414e-19, 6.87092558e-18,\n",
       "       5.61363433e-17, 3.72857765e-16, 2.08365125e-15, 1.00625571e-14,\n",
       "       4.28958215e-14, 1.64200537e-13, 5.72332796e-13, 1.83754002e-12,\n",
       "       5.48659638e-12, 1.53583847e-11, 4.05813867e-11, 1.01806173e-10,\n",
       "       2.43701024e-10, 5.59051453e-10, 1.23363593e-09, 2.62716177e-09,\n",
       "       5.41503568e-09, 1.08301197e-08, 2.10649068e-08, 3.99253878e-08,\n",
       "       7.38716738e-08, 1.33641443e-07, 2.36735743e-07, 4.11158890e-07,\n",
       "       7.00952556e-07, 1.17425710e-06, 1.93488023e-06, 3.13866450e-06,\n",
       "       5.01633133e-06, 7.90495169e-06, 1.22907611e-05, 1.88667088e-05,\n",
       "       2.86089150e-05, 4.28771040e-05, 6.35450911e-05, 9.31685089e-05,\n",
       "       1.35198157e-04, 1.94248619e-04, 2.76433070e-04, 3.89776475e-04,\n",
       "       5.44720554e-04, 7.54734946e-04, 1.03704979e-03, 1.41352547e-03,\n",
       "       1.91167531e-03, 2.56585654e-03, 3.41864389e-03, 4.52239813e-03,\n",
       "       5.94103952e-03, 7.75203241e-03, 1.00485829e-02, 1.29420457e-02,\n",
       "       1.65645310e-02, 2.10716932e-02, 2.66456763e-02, 3.34981837e-02,\n",
       "       4.18736262e-02, 5.20522994e-02, 6.43535269e-02, 7.91386997e-02,\n",
       "       9.68141348e-02, 1.17833669e-01, 1.42700896e-01, 1.71970962e-01,\n",
       "       2.06251818e-01, 2.46204846e-01, 2.92544772e-01, 3.46038793e-01,\n",
       "       4.07504839e-01, 4.77808937e-01, 5.57861633e-01, 6.48613449e-01,\n",
       "       7.51049399e-01, 8.66182577e-01, 9.95046874e-01, 1.13868891e+00,\n",
       "       1.29815923e+00, 1.47450302e+00, 1.66875023e+00, 1.88190559e+00,\n",
       "       2.11493837e+00, 2.36877227e+00, 2.64427557e+00, 2.94225164e+00,\n",
       "       3.26343013e+00, 3.60845886e+00, 3.97789665e+00, 4.37220727e+00,\n",
       "       4.79175442e+00, 5.23679809e+00, 5.70749216e+00, 6.20388340e+00,\n",
       "       6.72591171e+00, 7.27341185e+00, 7.84611629e+00, 8.44365933e+00,\n",
       "       9.06558230e+00, 9.71133978e+00, 1.03803066e+01, 1.10717855e+01,\n",
       "       1.17850156e+01, 1.25191808e+01, 1.32734190e+01, 1.40468308e+01,\n",
       "       1.48384887e+01, 1.56474454e+01, 1.64727428e+01, 1.73134194e+01,\n",
       "       1.81685184e+01, 1.90370938e+01, 1.99182173e+01, 2.08109836e+01,\n",
       "       2.17145152e+01, 2.26279663e+01, 2.35505269e+01, 2.44814244e+01,\n",
       "       2.54199268e+01, 2.63653430e+01, 2.73170245e+01, 2.82743651e+01,\n",
       "       2.92368010e+01, 3.02038100e+01, 3.11749105e+01, 3.21496604e+01,\n",
       "       3.31276553e+01, 3.41085270e+01, 3.50919412e+01, 3.60775961e+01,\n",
       "       3.70652197e+01, 3.80545682e+01, 3.90454235e+01, 4.00375914e+01,\n",
       "       4.10308997e+01, 4.20251958e+01, 4.30203453e+01, 4.40162303e+01,\n",
       "       4.50127472e+01, 4.60098056e+01, 4.70073271e+01, 4.80052434e+01,\n",
       "       4.90034954e+01, 5.00020323e+01, 5.10008103e+01, 5.19997918e+01,\n",
       "       5.29989447e+01, 5.39982417e+01, 5.49976595e+01, 5.59971782e+01,\n",
       "       5.69967812e+01, 5.79964544e+01, 5.89961858e+01, 5.99959656e+01,\n",
       "       6.09957854e+01, 6.19956381e+01, 6.29955180e+01, 6.39954203e+01,\n",
       "       6.49953409e+01, 6.59952765e+01, 6.69952243e+01, 6.79951822e+01,\n",
       "       6.89951482e+01, 6.99951208e+01, 7.09950988e+01, 7.19950811e+01,\n",
       "       7.29950669e+01, 7.39950556e+01, 7.49950465e+01, 7.59950393e+01,\n",
       "       7.69950335e+01, 7.79950289e+01, 7.89950253e+01, 7.99950224e+01,\n",
       "       8.09950201e+01, 8.19950183e+01, 8.29950169e+01, 8.39950158e+01,\n",
       "       8.49950149e+01, 8.59950142e+01, 8.69950136e+01, 8.79950132e+01,\n",
       "       8.89950129e+01, 8.99950126e+01, 9.09950124e+01, 9.19950122e+01,\n",
       "       9.29950121e+01, 9.39950120e+01, 9.49950119e+01, 9.59950119e+01,\n",
       "       9.69950118e+01, 9.79950118e+01, 9.89950118e+01, 9.99950117e+01,\n",
       "       1.00995012e+02, 1.01995012e+02, 1.02995012e+02, 1.03995012e+02,\n",
       "       1.04995012e+02, 1.05995012e+02, 1.06995012e+02, 1.07995012e+02,\n",
       "       1.08995012e+02, 1.09995012e+02, 1.10995012e+02, 1.11995012e+02,\n",
       "       1.12995012e+02, 1.13995012e+02, 1.14995012e+02, 1.15995012e+02,\n",
       "       1.16995012e+02, 1.17995012e+02, 1.18995012e+02, 1.19995012e+02,\n",
       "       1.20995012e+02, 1.21995012e+02, 1.22995012e+02, 1.23995012e+02,\n",
       "       1.24995012e+02, 1.25995012e+02, 1.26995012e+02, 1.27995012e+02,\n",
       "       1.28995012e+02, 1.29995012e+02, 1.30995012e+02, 1.31995012e+02,\n",
       "       1.32995012e+02, 1.33995012e+02, 1.34995012e+02, 1.35995012e+02,\n",
       "       1.36995012e+02, 1.37995012e+02, 1.38995012e+02, 1.39995012e+02,\n",
       "       1.40995012e+02, 1.41995012e+02, 1.42995012e+02, 1.43995012e+02,\n",
       "       1.44995012e+02, 1.45995012e+02, 1.46995012e+02, 1.47995012e+02,\n",
       "       1.48995012e+02, 1.49995012e+02, 1.50995012e+02, 1.51995012e+02,\n",
       "       1.52995012e+02, 1.53995012e+02, 1.54995012e+02, 1.55995012e+02,\n",
       "       1.56995012e+02, 1.57995012e+02, 1.58995012e+02, 1.59995012e+02,\n",
       "       1.60995012e+02, 1.61995012e+02, 1.62995012e+02, 1.63995012e+02,\n",
       "       1.64995012e+02, 1.65995012e+02, 1.66995012e+02, 1.67995012e+02,\n",
       "       1.68995012e+02, 1.69995012e+02, 1.70995012e+02, 1.71995012e+02,\n",
       "       1.72995013e+02, 1.73995013e+02, 1.74995013e+02, 1.75995013e+02,\n",
       "       1.76995013e+02, 1.77995013e+02, 1.78995013e+02, 1.79995013e+02,\n",
       "       1.80995013e+02, 1.81995013e+02, 1.82995013e+02, 1.83995014e+02,\n",
       "       1.84995014e+02, 1.85995014e+02, 1.86995014e+02, 1.87995014e+02,\n",
       "       1.88995014e+02, 1.89995014e+02, 1.90995015e+02, 1.91995015e+02,\n",
       "       1.92995015e+02, 1.93995015e+02, 1.94995015e+02, 1.95995015e+02,\n",
       "       1.96995016e+02, 1.97995016e+02, 1.98995016e+02, 1.99995016e+02,\n",
       "       2.00995017e+02])"
      ]
     },
     "execution_count": 8,
     "metadata": {},
     "output_type": "execute_result"
    }
   ],
   "source": [
    "call_payoff = lambda price_range: np.maximum(price_range - K, 0)\n",
    "call_lower_boundary = lambda price, time: 0\n",
    "call_upper_boundary = lambda price, time: x_max - K*np.exp(-r*time)\n",
    "v_im = price_option_implicit_scheme(x, t, a_diag_local, b_diag_local, c_diag_local, call_payoff, call_lower_boundary, call_upper_boundary)\n",
    "v_im"
   ]
  },
  {
   "cell_type": "markdown",
   "metadata": {},
   "source": [
    "# *Crank-Nicolson scheme*\n",
    "\n",
    "The general $\\theta$-scheme is: \n",
    "\\begin{align}\n",
    "\n",
    "(\\mathbb{I}-\\theta L^{n})V^{n}=B^{n}[(\\mathbb{I} + (1-\\theta)L^{n-1})V^{n-1})]\n",
    "\n",
    "\\end{align}\n",
    "where $n = 1,\\ldots,N$.\n",
    "\n",
    "The choice of $\\theta = \\frac 1 2$ is the Crank-Nicolson scheme, i.e\n",
    "\n",
    "\\begin{align}\n",
    "\n",
    "(\\mathbb{I}-\\frac 1 2 L^{n})V^{n}=B^{n}[(\\mathbb{I} +\\frac 1 2L^{n-1})V^{n-1})]\n",
    "\n",
    "\\end{align}\n"
   ]
  },
  {
   "cell_type": "code",
   "execution_count": 9,
   "metadata": {},
   "outputs": [],
   "source": [
    "# Initial condition\n",
    "v_cn = np.maximum(x - K, 0)\n",
    "\n",
    "# Iteration of implicit scheme\n",
    "for n in range(1,N+1):\n",
    "    \n",
    "    d = np.matmul(I+ 0.5* L_local[n-1,:,:], v_cn)  # The RHS of the system of equations is V^{n-1}\n",
    "    d[0] = 0   # Boundary operator at x_min\n",
    "    d[M] = x_max - K*np.exp(-r*t[n])  # Boundary operator at x_max\n",
    "    v_cn = TDMAsolver(-0.5*a_diag_local[n,:], 1-0.5*b_diag_local[n,:], -0.5*c_diag_local[n,:], d)   # Run the Thomas algorithm to solve for V^n"
   ]
  },
  {
   "cell_type": "markdown",
   "metadata": {},
   "source": [
    "Report the call option price at the range of $S_0 \\in \\{80, 85, \\ldots, 120\\}$"
   ]
  },
  {
   "cell_type": "code",
   "execution_count": 10,
   "metadata": {},
   "outputs": [
    {
     "data": {
      "text/html": [
       "<div>\n",
       "<style scoped>\n",
       "    .dataframe tbody tr th:only-of-type {\n",
       "        vertical-align: middle;\n",
       "    }\n",
       "\n",
       "    .dataframe tbody tr th {\n",
       "        vertical-align: top;\n",
       "    }\n",
       "\n",
       "    .dataframe thead th {\n",
       "        text-align: right;\n",
       "    }\n",
       "</style>\n",
       "<table border=\"1\" class=\"dataframe\">\n",
       "  <thead>\n",
       "    <tr style=\"text-align: right;\">\n",
       "      <th></th>\n",
       "      <th>Explicit</th>\n",
       "      <th>Implicit</th>\n",
       "      <th>Crank-Nicolson</th>\n",
       "    </tr>\n",
       "  </thead>\n",
       "  <tbody>\n",
       "    <tr>\n",
       "      <th>80.0</th>\n",
       "      <td>0.750545</td>\n",
       "      <td>0.751049</td>\n",
       "      <td>0.750797</td>\n",
       "    </tr>\n",
       "    <tr>\n",
       "      <th>85.0</th>\n",
       "      <td>1.474575</td>\n",
       "      <td>1.474503</td>\n",
       "      <td>1.474539</td>\n",
       "    </tr>\n",
       "    <tr>\n",
       "      <th>90.0</th>\n",
       "      <td>2.645115</td>\n",
       "      <td>2.644276</td>\n",
       "      <td>2.644695</td>\n",
       "    </tr>\n",
       "    <tr>\n",
       "      <th>95.0</th>\n",
       "      <td>4.373712</td>\n",
       "      <td>4.372207</td>\n",
       "      <td>4.372960</td>\n",
       "    </tr>\n",
       "    <tr>\n",
       "      <th>100.0</th>\n",
       "      <td>6.727700</td>\n",
       "      <td>6.725912</td>\n",
       "      <td>6.726806</td>\n",
       "    </tr>\n",
       "    <tr>\n",
       "      <th>105.0</th>\n",
       "      <td>9.712932</td>\n",
       "      <td>9.711340</td>\n",
       "      <td>9.712136</td>\n",
       "    </tr>\n",
       "    <tr>\n",
       "      <th>110.0</th>\n",
       "      <td>13.274460</td>\n",
       "      <td>13.273419</td>\n",
       "      <td>13.273940</td>\n",
       "    </tr>\n",
       "    <tr>\n",
       "      <th>115.0</th>\n",
       "      <td>17.313805</td>\n",
       "      <td>17.313419</td>\n",
       "      <td>17.313612</td>\n",
       "    </tr>\n",
       "    <tr>\n",
       "      <th>120.0</th>\n",
       "      <td>21.714371</td>\n",
       "      <td>21.714515</td>\n",
       "      <td>21.714443</td>\n",
       "    </tr>\n",
       "  </tbody>\n",
       "</table>\n",
       "</div>"
      ],
      "text/plain": [
       "        Explicit   Implicit  Crank-Nicolson\n",
       "80.0    0.750545   0.751049        0.750797\n",
       "85.0    1.474575   1.474503        1.474539\n",
       "90.0    2.645115   2.644276        2.644695\n",
       "95.0    4.373712   4.372207        4.372960\n",
       "100.0   6.727700   6.725912        6.726806\n",
       "105.0   9.712932   9.711340        9.712136\n",
       "110.0  13.274460  13.273419       13.273940\n",
       "115.0  17.313805  17.313419       17.313612\n",
       "120.0  21.714371  21.714515       21.714443"
      ]
     },
     "execution_count": 10,
     "metadata": {},
     "output_type": "execute_result"
    }
   ],
   "source": [
    "s_0 = x[80:121:5]\n",
    "p_ex = v_ex[80:121:5]\n",
    "p_im = v_im[80:121:5]\n",
    "p_cn = v_cn[80:121:5]\n",
    "E_v = pd.DataFrame(np.array([p_ex,p_im,p_cn]).T, columns = [\"Explicit\",\"Implicit\",\"Crank-Nicolson\"], index = s_0,)\n",
    "\n",
    "E_v"
   ]
  },
  {
   "cell_type": "markdown",
   "metadata": {},
   "source": [
    "# *Q2.Computing Implied Volatility*"
   ]
  },
  {
   "cell_type": "markdown",
   "metadata": {},
   "source": [
    "Part (a)"
   ]
  },
  {
   "cell_type": "code",
   "execution_count": 11,
   "metadata": {},
   "outputs": [],
   "source": [
    "def blackscholesCall(s0, K, r, T, sigma):\n",
    "    '''\n",
    "    #Inputs:\n",
    "    s0: initial stock price\n",
    "    K: strike\n",
    "    sigma: instantaneous volatility\n",
    "    T: time to maturity\n",
    "    #Output:\n",
    "    Black-Scholes Call price\n",
    "    '''\n",
    "    sigT = sigma*np.sqrt(T)\n",
    "    k = np.log(K/s0)\n",
    "    dp = (1/sigT)*(-k + (r + sigma**2/2)*T)\n",
    "    dm = dp - sigT\n",
    "    return s0*(norm.cdf(dp) - np.exp(k-r*T)*norm.cdf(dm))"
   ]
  },
  {
   "cell_type": "code",
   "execution_count": 12,
   "metadata": {},
   "outputs": [],
   "source": [
    "def black_scholes_call_implied_vol_wrapper(sigma, *args):\n",
    "    s0, strike, rfr, maturity, option_price_to_match = args\n",
    "    return blackscholesCall(s0,strike, rfr, maturity, sigma) - option_price_to_match"
   ]
  },
  {
   "cell_type": "code",
   "execution_count": 13,
   "metadata": {},
   "outputs": [],
   "source": [
    "def impliedVol(s0, K, r, T, option_price_to_match):\n",
    "    args = (s0, K, r, T, option_price_to_match)\n",
    "    temp =  fsolve(black_scholes_call_implied_vol_wrapper, x0=0.157, args=args)[0]\n",
    "    return temp\n"
   ]
  },
  {
   "cell_type": "markdown",
   "metadata": {},
   "source": [
    "part (b)"
   ]
  },
  {
   "cell_type": "code",
   "execution_count": 14,
   "metadata": {},
   "outputs": [],
   "source": [
    "s0 = 100\n",
    "K_range = np.linspace(70,130,61)"
   ]
  },
  {
   "cell_type": "code",
   "execution_count": 15,
   "metadata": {},
   "outputs": [
    {
     "data": {
      "text/html": [
       "<div>\n",
       "<style scoped>\n",
       "    .dataframe tbody tr th:only-of-type {\n",
       "        vertical-align: middle;\n",
       "    }\n",
       "\n",
       "    .dataframe tbody tr th {\n",
       "        vertical-align: top;\n",
       "    }\n",
       "\n",
       "    .dataframe thead th {\n",
       "        text-align: right;\n",
       "    }\n",
       "</style>\n",
       "<table border=\"1\" class=\"dataframe\">\n",
       "  <thead>\n",
       "    <tr style=\"text-align: right;\">\n",
       "      <th></th>\n",
       "      <th>strike price</th>\n",
       "      <th>Call Price</th>\n",
       "      <th>Implied volatility</th>\n",
       "    </tr>\n",
       "  </thead>\n",
       "  <tbody>\n",
       "    <tr>\n",
       "      <th>0</th>\n",
       "      <td>70.0</td>\n",
       "      <td>30.801675</td>\n",
       "      <td>0.177624</td>\n",
       "    </tr>\n",
       "    <tr>\n",
       "      <th>1</th>\n",
       "      <td>71.0</td>\n",
       "      <td>29.833864</td>\n",
       "      <td>0.176757</td>\n",
       "    </tr>\n",
       "    <tr>\n",
       "      <th>2</th>\n",
       "      <td>72.0</td>\n",
       "      <td>28.870015</td>\n",
       "      <td>0.175904</td>\n",
       "    </tr>\n",
       "    <tr>\n",
       "      <th>3</th>\n",
       "      <td>73.0</td>\n",
       "      <td>27.910683</td>\n",
       "      <td>0.175065</td>\n",
       "    </tr>\n",
       "    <tr>\n",
       "      <th>4</th>\n",
       "      <td>74.0</td>\n",
       "      <td>26.956472</td>\n",
       "      <td>0.174239</td>\n",
       "    </tr>\n",
       "    <tr>\n",
       "      <th>...</th>\n",
       "      <td>...</td>\n",
       "      <td>...</td>\n",
       "      <td>...</td>\n",
       "    </tr>\n",
       "    <tr>\n",
       "      <th>56</th>\n",
       "      <td>126.0</td>\n",
       "      <td>0.446286</td>\n",
       "      <td>0.144915</td>\n",
       "    </tr>\n",
       "    <tr>\n",
       "      <th>57</th>\n",
       "      <td>127.0</td>\n",
       "      <td>0.390025</td>\n",
       "      <td>0.144544</td>\n",
       "    </tr>\n",
       "    <tr>\n",
       "      <th>58</th>\n",
       "      <td>128.0</td>\n",
       "      <td>0.340092</td>\n",
       "      <td>0.144178</td>\n",
       "    </tr>\n",
       "    <tr>\n",
       "      <th>59</th>\n",
       "      <td>129.0</td>\n",
       "      <td>0.295890</td>\n",
       "      <td>0.143817</td>\n",
       "    </tr>\n",
       "    <tr>\n",
       "      <th>60</th>\n",
       "      <td>130.0</td>\n",
       "      <td>0.256860</td>\n",
       "      <td>0.143462</td>\n",
       "    </tr>\n",
       "  </tbody>\n",
       "</table>\n",
       "<p>61 rows × 3 columns</p>\n",
       "</div>"
      ],
      "text/plain": [
       "    strike price  Call Price  Implied volatility\n",
       "0           70.0   30.801675            0.177624\n",
       "1           71.0   29.833864            0.176757\n",
       "2           72.0   28.870015            0.175904\n",
       "3           73.0   27.910683            0.175065\n",
       "4           74.0   26.956472            0.174239\n",
       "..           ...         ...                 ...\n",
       "56         126.0    0.446286            0.144915\n",
       "57         127.0    0.390025            0.144544\n",
       "58         128.0    0.340092            0.144178\n",
       "59         129.0    0.295890            0.143817\n",
       "60         130.0    0.256860            0.143462\n",
       "\n",
       "[61 rows x 3 columns]"
      ]
     },
     "execution_count": 15,
     "metadata": {},
     "output_type": "execute_result"
    }
   ],
   "source": [
    "data = []\n",
    "\n",
    "for strike in K_range:\n",
    "    call_payoff = lambda price_range: np.maximum(price_range - strike, 0)\n",
    "    call_lower_boundary = lambda price, time: 0\n",
    "    call_upper_boundary = lambda price, time: x_max - strike*np.exp(-r*time)\n",
    "\n",
    "    #This returns a range of prices one for every value of s0 from 0 to 300 therefore we take the 100th value\n",
    "    call_price = price_option_implicit_scheme(x, t, a_diag_local, b_diag_local, c_diag_local, call_payoff, call_lower_boundary, call_upper_boundary)[100]\n",
    "    implied_volatility = impliedVol(s0, strike, r, T, call_price)\n",
    "    data.append([strike, call_price, implied_volatility])\n",
    "\n",
    "df_local_vol = pd.DataFrame(data,columns=[\"strike price\", \"Call Price\", \"Implied volatility\"])\n",
    "df_local_vol\n",
    "\n"
   ]
  },
  {
   "cell_type": "code",
   "execution_count": 16,
   "metadata": {},
   "outputs": [
    {
     "data": {
      "text/plain": [
       "36.96681795208588"
      ]
     },
     "execution_count": 16,
     "metadata": {},
     "output_type": "execute_result"
    }
   ],
   "source": [
    "blackscholesCall(100, 70, 0.1,1, 0.256693)"
   ]
  },
  {
   "cell_type": "code",
   "execution_count": 17,
   "metadata": {},
   "outputs": [
    {
     "data": {
      "image/png": "[encoded data removed]",
      "text/plain": [
       "<Figure size 432x288 with 1 Axes>"
      ]
     },
     "metadata": {
      "needs_background": "light"
     },
     "output_type": "display_data"
    }
   ],
   "source": [
    "fig1, ax1 = plt.subplots()\n",
    "ax1.plot(df_local_vol[\"strike price\"], df_local_vol[\"Implied volatility\"])\n",
    "ax1.set_xlabel('Strike',fontsize = 10)\n",
    "ax1.set_ylabel(\"Implied Volatility\", fontsize = 10)\n",
    "plt.savefig(\"sigma-K1.pdf\")\n",
    "plt.show()\n"
   ]
  },
  {
   "cell_type": "code",
   "execution_count": 18,
   "metadata": {},
   "outputs": [],
   "source": [
    "def constant_sigma(t,x):\n",
    "    return np.ones([M+1, N+1])*0.157\n",
    "\n",
    "(A,B,C) = compute_params(constant_sigma , t, x)\n",
    "(L, a_diag, b_diag, c_diag) = compute_L(A,B,C)"
   ]
  },
  {
   "cell_type": "code",
   "execution_count": 19,
   "metadata": {},
   "outputs": [
    {
     "data": {
      "text/html": [
       "<div>\n",
       "<style scoped>\n",
       "    .dataframe tbody tr th:only-of-type {\n",
       "        vertical-align: middle;\n",
       "    }\n",
       "\n",
       "    .dataframe tbody tr th {\n",
       "        vertical-align: top;\n",
       "    }\n",
       "\n",
       "    .dataframe thead th {\n",
       "        text-align: right;\n",
       "    }\n",
       "</style>\n",
       "<table border=\"1\" class=\"dataframe\">\n",
       "  <thead>\n",
       "    <tr style=\"text-align: right;\">\n",
       "      <th></th>\n",
       "      <th>strike price</th>\n",
       "      <th>Call Price</th>\n",
       "      <th>Implied volatility</th>\n",
       "    </tr>\n",
       "  </thead>\n",
       "  <tbody>\n",
       "    <tr>\n",
       "      <th>0</th>\n",
       "      <td>70.0</td>\n",
       "      <td>30.739816</td>\n",
       "      <td>0.157141</td>\n",
       "    </tr>\n",
       "    <tr>\n",
       "      <th>1</th>\n",
       "      <td>71.0</td>\n",
       "      <td>29.763163</td>\n",
       "      <td>0.157118</td>\n",
       "    </tr>\n",
       "    <tr>\n",
       "      <th>2</th>\n",
       "      <td>72.0</td>\n",
       "      <td>28.789894</td>\n",
       "      <td>0.157097</td>\n",
       "    </tr>\n",
       "    <tr>\n",
       "      <th>3</th>\n",
       "      <td>73.0</td>\n",
       "      <td>27.820656</td>\n",
       "      <td>0.157078</td>\n",
       "    </tr>\n",
       "    <tr>\n",
       "      <th>4</th>\n",
       "      <td>74.0</td>\n",
       "      <td>26.856169</td>\n",
       "      <td>0.157059</td>\n",
       "    </tr>\n",
       "    <tr>\n",
       "      <th>...</th>\n",
       "      <td>...</td>\n",
       "      <td>...</td>\n",
       "      <td>...</td>\n",
       "    </tr>\n",
       "    <tr>\n",
       "      <th>56</th>\n",
       "      <td>126.0</td>\n",
       "      <td>0.630059</td>\n",
       "      <td>0.157011</td>\n",
       "    </tr>\n",
       "    <tr>\n",
       "      <th>57</th>\n",
       "      <td>127.0</td>\n",
       "      <td>0.565516</td>\n",
       "      <td>0.157018</td>\n",
       "    </tr>\n",
       "    <tr>\n",
       "      <th>58</th>\n",
       "      <td>128.0</td>\n",
       "      <td>0.507041</td>\n",
       "      <td>0.157024</td>\n",
       "    </tr>\n",
       "    <tr>\n",
       "      <th>59</th>\n",
       "      <td>129.0</td>\n",
       "      <td>0.454137</td>\n",
       "      <td>0.157031</td>\n",
       "    </tr>\n",
       "    <tr>\n",
       "      <th>60</th>\n",
       "      <td>130.0</td>\n",
       "      <td>0.406333</td>\n",
       "      <td>0.157038</td>\n",
       "    </tr>\n",
       "  </tbody>\n",
       "</table>\n",
       "<p>61 rows × 3 columns</p>\n",
       "</div>"
      ],
      "text/plain": [
       "    strike price  Call Price  Implied volatility\n",
       "0           70.0   30.739816            0.157141\n",
       "1           71.0   29.763163            0.157118\n",
       "2           72.0   28.789894            0.157097\n",
       "3           73.0   27.820656            0.157078\n",
       "4           74.0   26.856169            0.157059\n",
       "..           ...         ...                 ...\n",
       "56         126.0    0.630059            0.157011\n",
       "57         127.0    0.565516            0.157018\n",
       "58         128.0    0.507041            0.157024\n",
       "59         129.0    0.454137            0.157031\n",
       "60         130.0    0.406333            0.157038\n",
       "\n",
       "[61 rows x 3 columns]"
      ]
     },
     "execution_count": 19,
     "metadata": {},
     "output_type": "execute_result"
    }
   ],
   "source": [
    "data = []\n",
    "\n",
    "for strike in K_range:\n",
    "    call_payoff = lambda price_range: np.maximum(price_range - strike, 0)\n",
    "    call_lower_boundary = lambda price, time: 0\n",
    "    call_upper_boundary = lambda price, time: x_max - strike*np.exp(-r*time)\n",
    "\n",
    "    #This returns a range of prices one for every value of s0 from 0 to 300 therefore we take the 100th value\n",
    "    call_price = price_option_implicit_scheme(x, t, a_diag, b_diag, c_diag, call_payoff, call_lower_boundary, call_upper_boundary)[100]\n",
    "    implied_volatility = impliedVol(s0, strike, r, T, call_price)\n",
    "    data.append([strike, call_price, implied_volatility])\n",
    "\n",
    "df_constant_vol = pd.DataFrame(data,columns=[\"strike price\", \"Call Price\", \"Implied volatility\"])\n",
    "df_constant_vol"
   ]
  },
  {
   "cell_type": "code",
   "execution_count": 20,
   "metadata": {},
   "outputs": [
    {
     "data": {
      "image/png": "[encoded data removed]",
      "text/plain": [
       "<Figure size 432x288 with 1 Axes>"
      ]
     },
     "metadata": {
      "needs_background": "light"
     },
     "output_type": "display_data"
    }
   ],
   "source": [
    "fig2, ax2 = plt.subplots()\n",
    "ax2.plot(df_constant_vol[\"strike price\"], df_constant_vol[\"Implied volatility\"])\n",
    "ax2.set_xlabel('Strike',fontsize = 10)\n",
    "ax2.set_ylabel(\"Implied Volatility\", fontsize = 10)\n",
    "\n",
    "plt.savefig(\"sigma-K2.pdf\",bbox_inches='tight')\n",
    "plt.show()\n",
    "\n"
   ]
  },
  {
   "cell_type": "markdown",
   "metadata": {},
   "source": [
    "# *Q3.Pricing the Knock-out Barrier Option*"
   ]
  },
  {
   "cell_type": "markdown",
   "metadata": {},
   "source": [
    "Pricing the put"
   ]
  },
  {
   "cell_type": "code",
   "execution_count": 21,
   "metadata": {},
   "outputs": [],
   "source": [
    "s0 = 100\n",
    "k = 100\n"
   ]
  },
  {
   "cell_type": "code",
   "execution_count": 22,
   "metadata": {},
   "outputs": [
    {
     "data": {
      "text/plain": [
       "[<matplotlib.lines.Line2D at 0x234b75f8a30>]"
      ]
     },
     "execution_count": 22,
     "metadata": {},
     "output_type": "execute_result"
    },
    {
     "data": {
      "image/png": "[encoded data removed]",
      "text/plain": [
       "<Figure size 432x288 with 1 Axes>"
      ]
     },
     "metadata": {
      "needs_background": "light"
     },
     "output_type": "display_data"
    }
   ],
   "source": [
    "put_payoff = lambda price_range: np.maximum(k-price_range, 0)\n",
    "put_lower_boundary = lambda price, time: k*np.exp(-r*time)\n",
    "put_upper_boundary = lambda price, time: 0\n",
    "put_value = price_option_implicit_scheme(x, t, a_diag, b_diag, c_diag, put_payoff, put_lower_boundary, put_upper_boundary)\n",
    "plt.plot(put_value)"
   ]
  },
  {
   "cell_type": "code",
   "execution_count": 23,
   "metadata": {},
   "outputs": [
    {
     "data": {
      "text/plain": [
       "<matplotlib.collections.PathCollection at 0x234b7692ca0>"
      ]
     },
     "execution_count": 23,
     "metadata": {},
     "output_type": "execute_result"
    },
    {
     "data": {
      "image/png": "[encoded data removed]",
      "text/plain": [
       "<Figure size 432x288 with 1 Axes>"
      ]
     },
     "metadata": {
      "needs_background": "light"
     },
     "output_type": "display_data"
    }
   ],
   "source": [
    "B = 50\n",
    "x_min = b\n",
    "M = 301-b\n",
    "dx = (x_max - x_min)/M\n",
    "x = np.linspace(x_min, x_max, M+1)\n",
    "(A_knock_out_local, B_knock_out_local, C_knock_out_local) = compute_params(tilde_sigma, t, x)\n",
    "(L_knock_out_local, a_diag_knock_out_local, b_diag_knock_out_local, c_diag_knock_out_local) = compute_L(A_knock_out_local,B_knock_out_local,C_knock_out_local)\n",
    "knock_out_payoff = lambda price_range: np.maximum(k-price_range, 0)\n",
    "knock_out_lower_boundary = lambda price, time: 0\n",
    "knock_out_upper_boundary = lambda price, time: 0\n",
    "knock_out_value = price_option_implicit_scheme(x, t, a_diag_knock_out_local, b_diag_knock_out_local, c_diag_knock_out_local, knock_out_payoff, knock_out_lower_boundary, knock_out_upper_boundary)\n",
    "plt.scatter(x,knock_out_value)"
   ]
  }
 ],
 "metadata": {
  "interpreter": {
   "hash": "fc233fb643acc5d68deda753773ccc34ebff9f1e777c3e1e5ea71a8c1c2e1582"
  },
  "kernelspec": {
   "display_name": "Python 3.7.6 ('base')",
   "language": "python",
   "name": "python3"
  },
  "language_info": {
   "codemirror_mode": {
    "name": "ipython",
    "version": 3
   },
   "file_extension": ".py",
   "mimetype": "text/x-python",
   "name": "python",
   "nbconvert_exporter": "python",
   "pygments_lexer": "ipython3",
   "version": "3.8.8"
  },
  "orig_nbformat": 4
 },
 "nbformat": 4,
 "nbformat_minor": 2
}
